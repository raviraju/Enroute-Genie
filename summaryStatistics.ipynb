{
 "cells": [
  {
   "cell_type": "code",
   "execution_count": 4,
   "metadata": {
    "collapsed": true
   },
   "outputs": [],
   "source": [
    "import json, os\n",
    "\n",
    "def rscandir(path):\n",
    "\tfor root, dirs, files in os.walk(path):\n",
    "\t\tfor file in files:\n",
    "\t\t\tif file.endswith('.json'):\n",
    "\t\t\t\tyield (root, file)"
   ]
  },
  {
   "cell_type": "code",
   "execution_count": 28,
   "metadata": {
    "collapsed": false
   },
   "outputs": [
    {
     "name": "stdout",
     "output_type": "stream",
     "text": [
      "164260 : No of locations Parsed in output_candidate_location_from_blogs_using_NER/california/\n",
      "16453 : No of unique locations Parsed in output_candidate_location_from_blogs_using_NER/california/\n"
     ]
    }
   ],
   "source": [
    "path_blogLocation = 'output_candidate_location_from_blogs_using_NER/california/'\n",
    "total_no_locations_parsed = 0\n",
    "unique_locations_parsed = set()\n",
    "for path,fileName in rscandir(path_blogLocation):\n",
    "    filePath = os.path.join(path, fileName)\n",
    "    with open(filePath) as data_file:    \n",
    "        data = json.load(data_file)\n",
    "        locationsParsed = (data['location_BlogUrls'].keys())\n",
    "        for location in locationsParsed:\n",
    "            unique_locations_parsed.add(location)\n",
    "        all_locations_count = len(locationsParsed)\n",
    "        total_no_locations_parsed += all_locations_count\n",
    "        #print(\"No of locations Parsed in {} : {}\".format(filePath, all_locations_count))\n",
    "print(\"{} : No of locations Parsed in {}\".format(total_no_locations_parsed, path_blogLocation))\n",
    "print(\"{} : No of unique locations Parsed in {}\".format(len(unique_locations_parsed), path_blogLocation))"
   ]
  },
  {
   "cell_type": "code",
   "execution_count": 30,
   "metadata": {
    "collapsed": false
   },
   "outputs": [
    {
     "name": "stdout",
     "output_type": "stream",
     "text": [
      "94916 : No of locations Parsed in output_geoCoded_locations_from_blogs_using_geopy_json/california/geoCodeLocations_output/\n",
      "7951 : No of unique locations Parsed in output_geoCoded_locations_from_blogs_using_geopy_json/california/geoCodeLocations_output/\n"
     ]
    }
   ],
   "source": [
    "path_geoCodedLocations = 'output_geoCoded_locations_from_blogs_using_geopy_json/california/geoCodeLocations_output/'\n",
    "total_no_locations_parsed = 0\n",
    "unique_locations_parsed = set()\n",
    "for path,fileName in rscandir(path_geoCodedLocations):\n",
    "    filePath = os.path.join(path, fileName)\n",
    "    with open(filePath) as data_file:    \n",
    "        data = json.load(data_file)\n",
    "        locationsParsed = (data['mentions'].keys())\n",
    "        for location in locationsParsed:\n",
    "            unique_locations_parsed.add(location)\n",
    "        all_locations_count = len(locationsParsed)\n",
    "        total_no_locations_parsed += all_locations_count\n",
    "        #print(\"No of locations Parsed in {} : {}\".format(filePath, all_locations_count))\n",
    "print(\"{} : No of locations Parsed in {}\".format(total_no_locations_parsed, path_geoCodedLocations))\n",
    "print(\"{} : No of unique locations Parsed in {}\".format(len(unique_locations_parsed), path_geoCodedLocations))"
   ]
  },
  {
   "cell_type": "code",
   "execution_count": 46,
   "metadata": {
    "collapsed": false
   },
   "outputs": [
    {
     "name": "stdout",
     "output_type": "stream",
     "text": [
      "176 No of locations Parsed in merge_data/geoCodeLocations_output/los angeles_and_san francisco.json\n",
      "\t41    : No of Cities\n",
      "\t6     : No of Enriched Cities\n",
      "\n",
      "\t135   : No of NonCities\n",
      "\t22    : No of Enriched NonCities\n",
      "\n",
      "Summary :\n",
      "94916 : No of locations Parsed in merge_data/geoCodeLocations_output/\n",
      "21820 : No of cities in merge_data/geoCodeLocations_output/\n",
      "73096 : No of noncities in merge_data/geoCodeLocations_output/\n",
      "\n",
      "7951  : No of unique locations\n",
      "79    : No of unique enriched cities\n",
      "477   : No of unique non_enriched cities\n",
      "517   : No of unique enriched noncities\n",
      "6878  : No of unique non_enriched noncities\n"
     ]
    }
   ],
   "source": [
    "final_merge_data = 'merge_data/geoCodeLocations_output/'\n",
    "total_no_locations_parsed = 0\n",
    "unique_locations_parsed = set()\n",
    "unique_enriched_cities = set()\n",
    "unique_enriched_non_cities = set()\n",
    "unique_non_enriched_cities = set()\n",
    "unique_non_enriched_non_cities = set()\n",
    "total_no_of_cities = 0\n",
    "total_no_of_non_cities = 0\n",
    "total_no_of_enriched_cities = 0\n",
    "total_no_of_enriched_non_cities = 0\n",
    "for path,fileName in rscandir(final_merge_data):\n",
    "    filePath = os.path.join(path, fileName)\n",
    "    with open(filePath) as data_file:    \n",
    "        data = json.load(data_file)\n",
    "        locationsParsed = (data['mentions'].keys())\n",
    "        for location in locationsParsed:\n",
    "            unique_locations_parsed.add(location)\n",
    "        all_locations_count = len(locationsParsed)\n",
    "        total_no_locations_parsed += all_locations_count\n",
    "        if filePath == 'merge_data/geoCodeLocations_output/los angeles_and_san francisco.json':\n",
    "            print(\"{} No of locations Parsed in {}\".format(all_locations_count, filePath))\n",
    "        no_of_cities = 0\n",
    "        no_of_non_cities = 0\n",
    "        no_of_enriched_cities = 0\n",
    "        no_of_enriched_non_cities = 0\n",
    "        for mention in data['mentions']:\n",
    "            if data['mentions'][mention]['locType'] == 'city':\n",
    "                no_of_cities +=1\n",
    "                if 'enrich_metadata' in data['mentions'][mention]:\n",
    "                    no_of_enriched_cities +=1\n",
    "                    unique_enriched_cities.add(mention)\n",
    "                else:\n",
    "                    unique_non_enriched_cities.add(mention)\n",
    "            else:\n",
    "                no_of_non_cities += 1\n",
    "                if 'enrich_metadata' in data['mentions'][mention]:\n",
    "                    no_of_enriched_non_cities +=1\n",
    "                    unique_enriched_non_cities.add(mention)\n",
    "                else:\n",
    "                    unique_non_enriched_non_cities.add(mention)\n",
    "        total_no_of_cities += no_of_cities\n",
    "        total_no_of_non_cities += no_of_non_cities\n",
    "        total_no_of_enriched_cities += no_of_enriched_cities\n",
    "        total_no_of_enriched_non_cities += no_of_enriched_non_cities\n",
    "        if filePath == 'merge_data/geoCodeLocations_output/los angeles_and_san francisco.json':\n",
    "            print(\"\\t{0: <5} : No of Cities\".format(no_of_cities))\n",
    "            print(\"\\t{0: <5} : No of Enriched Cities\".format(no_of_enriched_cities))\n",
    "            print()\n",
    "            print(\"\\t{0: <5} : No of NonCities\".format(no_of_non_cities))\n",
    "            print(\"\\t{0: <5} : No of Enriched NonCities\".format(no_of_enriched_non_cities))\n",
    "print()\n",
    "print(\"Summary :\")\n",
    "print(\"{} : No of locations Parsed in {}\".format(total_no_locations_parsed, final_merge_data))\n",
    "print(\"{} : No of cities in {}\".format(total_no_of_cities, final_merge_data))\n",
    "print(\"{} : No of noncities in {}\".format(total_no_of_non_cities, final_merge_data))\n",
    "print()\n",
    "print(\"{0: <5} : No of unique locations\".format(len(unique_locations_parsed)))\n",
    "print(\"{0: <5} : No of unique enriched cities\".format(len(unique_enriched_cities)))\n",
    "print(\"{0: <5} : No of unique non_enriched cities\".format(len(unique_non_enriched_cities)))\n",
    "print(\"{0: <5} : No of unique enriched noncities\".format(len(unique_enriched_non_cities)))\n",
    "print(\"{0: <5} : No of unique non_enriched noncities\".format(len(unique_non_enriched_non_cities)))"
   ]
  }
 ],
 "metadata": {
  "anaconda-cloud": {},
  "kernelspec": {
   "display_name": "Python [default]",
   "language": "python",
   "name": "python3"
  },
  "language_info": {
   "codemirror_mode": {
    "name": "ipython",
    "version": 3
   },
   "file_extension": ".py",
   "mimetype": "text/x-python",
   "name": "python",
   "nbconvert_exporter": "python",
   "pygments_lexer": "ipython3",
   "version": "3.5.2"
  }
 },
 "nbformat": 4,
 "nbformat_minor": 1
}
