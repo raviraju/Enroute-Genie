{
 "cells": [
  {
   "cell_type": "code",
   "execution_count": 1,
   "metadata": {
    "collapsed": true
   },
   "outputs": [],
   "source": [
    "from textblob import TextBlob"
   ]
  },
  {
   "cell_type": "code",
   "execution_count": 15,
   "metadata": {
    "collapsed": true
   },
   "outputs": [],
   "source": [
    "attraction_reviewComments = [\n",
    "                    \"Charming stores and enormous variety of eating establishments. Fun place to walk and browse. When going to Venice Beach, this is a wonderful addition to the experience.\",\n",
    "                    \"Abbot Kinney Blvd in Venice Beach is just a perfect example of the boho chic lifestyle Venice and Los Angeles provides. It has a vast array of shops, dining, and culture, all of... read more\",\n",
    "                    \"Great shops for window shopping and finding that special thing. Lots and lots of fantastic eateries. We had brunch at Joe's which was excellent.\",\n",
    "                    \"I visited on the first Friday of the month looking for some shopping and grab a bit to eat. Boy was I surprised to find a bunch of food trucks everywhere! It turns out, the... read more\",\n",
    "                    \"Abbott Kinney has really changed in the last few years, with more small vintage shops, art galleries, and one-of-a-kind boutiques. It is a perfect place to find unusual gifts, or... read more\",\n",
    "                    \"What a refreshing and diverse choice of eclectic boutiques, shops and restaurants, totallly laid back. No single chain outlet, Great for a morning brunch, an afternoon stroll or a... read more\",\n",
    "                    \"We weren't having a great impression of LA at first but a waitor recommended this area for us to visit. We loved it! Love the graffiti. lots of trendy cute little shops and... read more\",\n",
    "                    \"Whenever I am in town, I go check out the Abbot Kinney shops kand enjoy some great eats and coffee. Check out the locals only vibe, cool stores selling fun fashions, home apparel... read more\",\n",
    "                    \"The boulevard has become a very ritzy neighborhood that is so pricey, even dot-com millionaires grit their teeth over the prices. Lots of trendy restaurants and unique shops. An... read more\",\n",
    "                    \"If you like to eat, you have a lot to pick from on what has become the restaurant row of Venice. Plenty of art shops and clothing choices as well.\",\n",
    "                    \"A delight to walk on this street, the selection suits those who have passed the stage of shopping among the large chains. Boutques like Heist and Huset makes it particularly... read more\",\n",
    "                    \"Although most gravitate to the boardwalk, the boardwalk shops and food establishments are geared to tourists. Abbott Kinney, is more for the locals, with upscale shopping, and... read more\",\n",
    "                    \"Live nearby and have watched this area change a lot! The stores are creative and eclectic. Really the \\\"Soho\\\" of LA. Big money has driven out some of the small favorites that us... read more\",\n",
    "                    \"Worst experience ever\",\n",
    "                    \"Its fair\",\n",
    "                    \"Its Awesome\",\n",
    "                    \"Its good\",\n",
    "                    \"Im in a dilemma\"\n",
    "                ]"
   ]
  },
  {
   "cell_type": "code",
   "execution_count": 17,
   "metadata": {
    "collapsed": false
   },
   "outputs": [
    {
     "name": "stdout",
     "output_type": "stream",
     "text": [
      "0 Charming stores and enormous variety of eating establishments. Fun place to walk and browse. When going to Venice Beach, this is a wonderful addition to the experience. Sentiment(polarity=0.5, subjectivity=0.775)\n",
      "1 Abbot Kinney Blvd in Venice Beach is just a perfect example of the boho chic lifestyle Venice and Los Angeles provides. It has a vast array of shops, dining, and culture, all of... read more Sentiment(polarity=0.5, subjectivity=0.8333333333333334)\n",
      "2 Great shops for window shopping and finding that special thing. Lots and lots of fantastic eateries. We had brunch at Joe's which was excellent. Sentiment(polarity=0.6392857142857143, subjectivity=0.8053571428571429)\n",
      "3 I visited on the first Friday of the month looking for some shopping and grab a bit to eat. Boy was I surprised to find a bunch of food trucks everywhere! It turns out, the... read more Sentiment(polarity=0.2916666666666667, subjectivity=0.5777777777777778)\n",
      "4 Abbott Kinney has really changed in the last few years, with more small vintage shops, art galleries, and one-of-a-kind boutiques. It is a perfect place to find unusual gifts, or... read more Sentiment(polarity=0.24375, subjectivity=0.4708333333333333)\n",
      "5 What a refreshing and diverse choice of eclectic boutiques, shops and restaurants, totallly laid back. No single chain outlet, Great for a morning brunch, an afternoon stroll or a... read more Sentiment(polarity=0.36714285714285716, subjectivity=0.4928571428571429)\n",
      "6 We weren't having a great impression of LA at first but a waitor recommended this area for us to visit. We loved it! Love the graffiti. lots of trendy cute little shops and... read more Sentiment(polarity=0.4796875, subjectivity=0.6729166666666666)\n",
      "7 Whenever I am in town, I go check out the Abbot Kinney shops kand enjoy some great eats and coffee. Check out the locals only vibe, cool stores selling fun fashions, home apparel... read more Sentiment(polarity=0.3916666666666668, subjectivity=0.6)\n",
      "8 The boulevard has become a very ritzy neighborhood that is so pricey, even dot-com millionaires grit their teeth over the prices. Lots of trendy restaurants and unique shops. An... read more Sentiment(polarity=0.41875, subjectivity=0.675)\n",
      "9 If you like to eat, you have a lot to pick from on what has become the restaurant row of Venice. Plenty of art shops and clothing choices as well. Sentiment(polarity=0.0, subjectivity=0.0)\n",
      "10 A delight to walk on this street, the selection suits those who have passed the stage of shopping among the large chains. Boutques like Heist and Huset makes it particularly... read more Sentiment(polarity=0.29365079365079366, subjectivity=0.42063492063492064)\n",
      "11 Although most gravitate to the boardwalk, the boardwalk shops and food establishments are geared to tourists. Abbott Kinney, is more for the locals, with upscale shopping, and... read more Sentiment(polarity=0.5, subjectivity=0.5)\n",
      "12 Live nearby and have watched this area change a lot! The stores are creative and eclectic. Really the \"Soho\" of LA. Big money has driven out some of the small favorites that us... read more Sentiment(polarity=0.18674242424242424, subjectivity=0.45)\n",
      "13 Worst experience ever Sentiment(polarity=-1.0, subjectivity=1.0)\n",
      "14 Its fair Sentiment(polarity=0.7, subjectivity=0.9)\n",
      "15 Its Awesome Sentiment(polarity=1.0, subjectivity=1.0)\n",
      "16 Its good Sentiment(polarity=0.7, subjectivity=0.6000000000000001)\n",
      "17 Im in a dilemma Sentiment(polarity=0.0, subjectivity=0.0)\n"
     ]
    }
   ],
   "source": [
    "#len(attraction_reviewComments)\n",
    "for index,reviewComment in enumerate(attraction_reviewComments):\n",
    "    reviewTextBlob = TextBlob(reviewComment)\n",
    "    print(index, reviewComment, reviewTextBlob.sentiment)"
   ]
  }
 ],
 "metadata": {
  "anaconda-cloud": {},
  "kernelspec": {
   "display_name": "Python [default]",
   "language": "python",
   "name": "python3"
  },
  "language_info": {
   "codemirror_mode": {
    "name": "ipython",
    "version": 3
   },
   "file_extension": ".py",
   "mimetype": "text/x-python",
   "name": "python",
   "nbconvert_exporter": "python",
   "pygments_lexer": "ipython3",
   "version": "3.5.2"
  }
 },
 "nbformat": 4,
 "nbformat_minor": 1
}
