{
 "cells": [
  {
   "cell_type": "code",
   "execution_count": 17,
   "metadata": {
    "collapsed": false
   },
   "outputs": [
    {
     "name": "stdout",
     "output_type": "stream",
     "text": [
      "['https://upload.wikimedia.org/wikipedia/commons/9/9d/Golden_Gate_Bridge_.JPG', 'http://cdn.mode.com/files/15492f7092490ef482c3d4d1a5be2d0c/SR/Wdk-9Zfi1k7wclF3QsemNBm6DC9XJbpBqhAc051Q3M*lC82YH2pQKSfrMfSh74WPz7Y5MgbzGXHH-BMlvxS9Wq5zDnqcmQSR/ggb.jpg', 'https://upload.wikimedia.org/wikipedia/commons/0/0c/GoldenGateBridge-001.jpg', 'http://elitefon.ru/pic/201503/2560x1600/elitefon.ru-38505.jpg']\n"
     ]
    }
   ],
   "source": [
    "from GoogleScraper import scrape_with_config, GoogleSearchError\n",
    "from urllib.parse import unquote\n",
    "\n",
    "def fetchImages(query):\n",
    "    config = {\n",
    "        'keyword': query,\n",
    "        'search_engines': ['yandex'],\n",
    "        'search_type': 'image',\n",
    "        'scrape_method': 'selenium',\n",
    "        'do_caching': True,\n",
    "    }\n",
    "\n",
    "    try:\n",
    "        search = scrape_with_config(config)\n",
    "    except GoogleSearchError as e:\n",
    "        print(e)\n",
    "\n",
    "    image_urls = []\n",
    "\n",
    "    for serp in search.serps:\n",
    "        image_urls.extend(\n",
    "            [link.link for link in serp.links]\n",
    "        )\n",
    "    num=3\n",
    "    images = []\n",
    "    i = 0\n",
    "    for image_url in image_urls:\n",
    "        images.append(unquote(image_url))\n",
    "        i += 1\n",
    "        if i > 3:\n",
    "            break\n",
    "    return images\n",
    "images = fetchImages('golden gate bridge')\n",
    "print(images)"
   ]
  }
 ],
 "metadata": {
  "anaconda-cloud": {},
  "kernelspec": {
   "display_name": "Python [default]",
   "language": "python",
   "name": "python3"
  },
  "language_info": {
   "codemirror_mode": {
    "name": "ipython",
    "version": 3
   },
   "file_extension": ".py",
   "mimetype": "text/x-python",
   "name": "python",
   "nbconvert_exporter": "python",
   "pygments_lexer": "ipython3",
   "version": "3.5.2"
  }
 },
 "nbformat": 4,
 "nbformat_minor": 1
}
