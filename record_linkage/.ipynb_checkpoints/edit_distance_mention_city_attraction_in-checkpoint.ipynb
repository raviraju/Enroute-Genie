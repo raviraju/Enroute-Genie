{
 "cells": [
  {
   "cell_type": "code",
   "execution_count": 40,
   "metadata": {
    "collapsed": false
   },
   "outputs": [],
   "source": [
    "# Import libraries\n",
    "import py_stringsimjoin as ssj\n",
    "import py_stringmatching as sm\n",
    "import pandas as pd\n",
    "import os, sys\n",
    "from geopy.geocoders import Nominatim\n",
    "\n",
    "ca_geolocator = Nominatim()\n",
    "cachedGeoDataDict = {}\n",
    "no_of_saved_calls = 0\n",
    "sleepTime = 1\n",
    "state = 'california'"
   ]
  },
  {
   "cell_type": "code",
   "execution_count": 38,
   "metadata": {
    "collapsed": true
   },
   "outputs": [],
   "source": [
    "def getGeoCodeDict(location):\n",
    "\tglobal no_of_saved_calls\n",
    "\tgeoData = None\n",
    "\tif location in cachedGeoDataDict:\n",
    "\t\tno_of_saved_calls +=1\n",
    "\t\tprint(\"Found {} in cache, Saved {} call\".format(location, no_of_saved_calls))\n",
    "\t\tgeoData = cachedGeoDataDict[location]\n",
    "\telse:\n",
    "\t\ttime.sleep(sleepTime)\n",
    "\t\ttry:\n",
    "\t\t\tgeoDataObj = ca_geolocator.geocode(location + ', ' + state,timeout=20)\n",
    "\t\t\tif geoDataObj:\n",
    "\t\t\t\tcachedGeoDataDict[location] = geoDataObj.raw\n",
    "\t\t\t\tgeoData = cachedGeoDataDict[location]\n",
    "\t\texcept (ValueError, GeocoderServiceError):\n",
    "\t\t\treturn None\n",
    "\treturn geoData"
   ]
  },
  {
   "cell_type": "code",
   "execution_count": 27,
   "metadata": {
    "collapsed": false
   },
   "outputs": [
    {
     "name": "stdout",
     "output_type": "stream",
     "text": [
      "Number of records in blogTable: 556\n",
      "Number of records in tripAdvisorTable: 682\n"
     ]
    }
   ],
   "source": [
    "recordLinkagePath = '/media/ravirajukrishna/Windows/Users/Ravi/Desktop/USC/Courses_Sem3/Info_Integrate_Web/Project/Enroute-Genie/data_record_linkage_csv/california/'\n",
    "blogTablePath = recordLinkagePath + 'allBlogLocation_City_Mentions.csv'\n",
    "tripAdvisorTablePath = recordLinkagePath + 'tripAdvisor_attraction_in.csv'\n",
    "# Load csv files as dataframes.\n",
    "blogTable = pd.read_csv(blogTablePath)\n",
    "tripAdvisorTable = pd.read_csv(tripAdvisorTablePath)\n",
    "print('Number of records in blogTable: ' + str(len(blogTable)))\n",
    "print('Number of records in tripAdvisorTable: ' + str(len(tripAdvisorTable)))"
   ]
  },
  {
   "cell_type": "code",
   "execution_count": 29,
   "metadata": {
    "collapsed": false
   },
   "outputs": [
    {
     "data": {
      "text/html": [
       "<div>\n",
       "<table border=\"1\" class=\"dataframe\">\n",
       "  <thead>\n",
       "    <tr style=\"text-align: right;\">\n",
       "      <th></th>\n",
       "      <th>Unique values</th>\n",
       "      <th>Missing values</th>\n",
       "      <th>Comments</th>\n",
       "    </tr>\n",
       "    <tr>\n",
       "      <th>Attribute</th>\n",
       "      <th></th>\n",
       "      <th></th>\n",
       "      <th></th>\n",
       "    </tr>\n",
       "  </thead>\n",
       "  <tbody>\n",
       "    <tr>\n",
       "      <th>mention_name</th>\n",
       "      <td>556 (100.0%)</td>\n",
       "      <td>0 (0.0%)</td>\n",
       "      <td>This attribute can be used as a key attribute.</td>\n",
       "    </tr>\n",
       "    <tr>\n",
       "      <th>mention_type</th>\n",
       "      <td>1 (0.18%)</td>\n",
       "      <td>0 (0.0%)</td>\n",
       "      <td></td>\n",
       "    </tr>\n",
       "    <tr>\n",
       "      <th>mention_popularity</th>\n",
       "      <td>77 (13.85%)</td>\n",
       "      <td>0 (0.0%)</td>\n",
       "      <td></td>\n",
       "    </tr>\n",
       "    <tr>\n",
       "      <th>mention_address</th>\n",
       "      <td>305 (54.86%)</td>\n",
       "      <td>0 (0.0%)</td>\n",
       "      <td></td>\n",
       "    </tr>\n",
       "    <tr>\n",
       "      <th>mention_longitude</th>\n",
       "      <td>309 (55.58%)</td>\n",
       "      <td>0 (0.0%)</td>\n",
       "      <td></td>\n",
       "    </tr>\n",
       "    <tr>\n",
       "      <th>mention_latitude</th>\n",
       "      <td>309 (55.58%)</td>\n",
       "      <td>0 (0.0%)</td>\n",
       "      <td></td>\n",
       "    </tr>\n",
       "    <tr>\n",
       "      <th>no_of_blogFiles</th>\n",
       "      <td>131 (23.56%)</td>\n",
       "      <td>0 (0.0%)</td>\n",
       "      <td></td>\n",
       "    </tr>\n",
       "    <tr>\n",
       "      <th>mention_found_in_blogFiles</th>\n",
       "      <td>504 (90.65%)</td>\n",
       "      <td>0 (0.0%)</td>\n",
       "      <td></td>\n",
       "    </tr>\n",
       "  </tbody>\n",
       "</table>\n",
       "</div>"
      ],
      "text/plain": [
       "                           Unique values Missing values  \\\n",
       "Attribute                                                 \n",
       "mention_name                556 (100.0%)       0 (0.0%)   \n",
       "mention_type                   1 (0.18%)       0 (0.0%)   \n",
       "mention_popularity           77 (13.85%)       0 (0.0%)   \n",
       "mention_address             305 (54.86%)       0 (0.0%)   \n",
       "mention_longitude           309 (55.58%)       0 (0.0%)   \n",
       "mention_latitude            309 (55.58%)       0 (0.0%)   \n",
       "no_of_blogFiles             131 (23.56%)       0 (0.0%)   \n",
       "mention_found_in_blogFiles  504 (90.65%)       0 (0.0%)   \n",
       "\n",
       "                                                                  Comments  \n",
       "Attribute                                                                   \n",
       "mention_name                This attribute can be used as a key attribute.  \n",
       "mention_type                                                                \n",
       "mention_popularity                                                          \n",
       "mention_address                                                             \n",
       "mention_longitude                                                           \n",
       "mention_latitude                                                            \n",
       "no_of_blogFiles                                                             \n",
       "mention_found_in_blogFiles                                                  "
      ]
     },
     "execution_count": 29,
     "metadata": {},
     "output_type": "execute_result"
    }
   ],
   "source": [
    "# profile attributes in table blogTable\n",
    "ssj.profile_table_for_join(blogTable)"
   ]
  },
  {
   "cell_type": "code",
   "execution_count": 30,
   "metadata": {
    "collapsed": false
   },
   "outputs": [
    {
     "data": {
      "text/html": [
       "<div>\n",
       "<table border=\"1\" class=\"dataframe\">\n",
       "  <thead>\n",
       "    <tr style=\"text-align: right;\">\n",
       "      <th></th>\n",
       "      <th>Unique values</th>\n",
       "      <th>Missing values</th>\n",
       "      <th>Comments</th>\n",
       "    </tr>\n",
       "    <tr>\n",
       "      <th>Attribute</th>\n",
       "      <th></th>\n",
       "      <th></th>\n",
       "      <th></th>\n",
       "    </tr>\n",
       "  </thead>\n",
       "  <tbody>\n",
       "    <tr>\n",
       "      <th>attraction_in</th>\n",
       "      <td>682 (100.0%)</td>\n",
       "      <td>0 (0.0%)</td>\n",
       "      <td>This attribute can be used as a key attribute.</td>\n",
       "    </tr>\n",
       "    <tr>\n",
       "      <th>attraction_in_file</th>\n",
       "      <td>682 (100.0%)</td>\n",
       "      <td>0 (0.0%)</td>\n",
       "      <td>This attribute can be used as a key attribute.</td>\n",
       "    </tr>\n",
       "  </tbody>\n",
       "</table>\n",
       "</div>"
      ],
      "text/plain": [
       "                   Unique values Missing values  \\\n",
       "Attribute                                         \n",
       "attraction_in       682 (100.0%)       0 (0.0%)   \n",
       "attraction_in_file  682 (100.0%)       0 (0.0%)   \n",
       "\n",
       "                                                          Comments  \n",
       "Attribute                                                           \n",
       "attraction_in       This attribute can be used as a key attribute.  \n",
       "attraction_in_file  This attribute can be used as a key attribute.  "
      ]
     },
     "execution_count": 30,
     "metadata": {},
     "output_type": "execute_result"
    }
   ],
   "source": [
    "# profile attributes in table tripAdvisorTable\n",
    "ssj.profile_table_for_join(tripAdvisorTable)"
   ]
  },
  {
   "cell_type": "code",
   "execution_count": 31,
   "metadata": {
    "collapsed": false
   },
   "outputs": [
    {
     "name": "stderr",
     "output_type": "stream",
     "text": [
      "0%                          100%\n",
      "[##############################] | ETA: 00:00:00\n",
      "Total time elapsed: 00:00:00\n"
     ]
    }
   ],
   "source": [
    "# find all pairs from blogTable and tripAdvisorTable such that the edit distance\n",
    "# on 'name' and 'attraction' is at most 5.\n",
    "# l_out_attrs and r_out_attrs denote the attributes from the \n",
    "# left table (A) and right table (B) that need to be included in the output.\n",
    "#name\tlocType\tlongitude\tlatitude\tclosest_to\tblogLinks\tsrc\tdest\taddress\tsrcLoc\tdestLoc\n",
    "#attraction_in\tno_of_attractions\tno_of_reviews\turl\treviewComment\tactivity_type\trank\tmax_rank\t\n",
    "#attraction\tcontact_no\tknownFor\taddress\tpinCode\n",
    "\n",
    "output_pairs = ssj.edit_distance_join(blogTable, tripAdvisorTable, \n",
    "                                'mention_name', 'attraction_in', \n",
    "                                'mention_name', 'attraction_in',\n",
    "                                3,\n",
    "                                l_out_attrs=['mention_name','mention_type','mention_popularity','mention_address','mention_longitude','mention_latitude', 'no_of_blogFiles', 'mention_found_in_blogFiles'], \n",
    "                                r_out_attrs=['attraction_in','attraction_in_file'],\n",
    "                                n_jobs=-1)"
   ]
  },
  {
   "cell_type": "code",
   "execution_count": 32,
   "metadata": {
    "collapsed": false
   },
   "outputs": [
    {
     "data": {
      "text/plain": [
       "535"
      ]
     },
     "execution_count": 32,
     "metadata": {},
     "output_type": "execute_result"
    }
   ],
   "source": [
    "len(output_pairs)"
   ]
  },
  {
   "cell_type": "code",
   "execution_count": 33,
   "metadata": {
    "collapsed": false,
    "scrolled": true
   },
   "outputs": [],
   "source": [
    "# examine the output pairs\n",
    "csvFile = open('edit_distance_mention_city_attraction_in.csv', 'w')\n",
    "output_pairs.to_csv(csvFile)"
   ]
  }
 ],
 "metadata": {
  "anaconda-cloud": {},
  "kernelspec": {
   "display_name": "Python [conda root]",
   "language": "python",
   "name": "conda-root-py"
  },
  "language_info": {
   "codemirror_mode": {
    "name": "ipython",
    "version": 3
   },
   "file_extension": ".py",
   "mimetype": "text/x-python",
   "name": "python",
   "nbconvert_exporter": "python",
   "pygments_lexer": "ipython3",
   "version": "3.5.2"
  }
 },
 "nbformat": 4,
 "nbformat_minor": 1
}
