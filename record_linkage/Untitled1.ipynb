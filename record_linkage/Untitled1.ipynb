{
 "cells": [
  {
   "cell_type": "code",
   "execution_count": 7,
   "metadata": {
    "collapsed": false
   },
   "outputs": [],
   "source": [
    "def getNoOfBlogFiles(blogFileString):\n",
    "    blogFileString = \"anaheim_and_fresno.json\"\n",
    "    #blogFileString = \"anaheim_and_fresno.json,anaheim_and_san jose.json,anaheim_and_sausalito.json,avalon_and_bakersfield.json,bakersfield_and_san bernardino.json,avalon_and_santa clarita.json,avalon_and_sausalito.json,bakersfield_and_long beach.json,bakersfield_and_monterey.json,bakersfield_and_oakland.json,bakersfield_and_riverside.json,bakersfield_and_santa clarita.json,bakersfield_and_sausalito.json,bakersfield_and_stockton.json,big bear lake_and_santa clarita.json,big bear lake_and_sausalito.json,carlsbad_and_oakland.json,carlsbad_and_sacramento.json,carlsbad_and_santa clarita.json,carlsbad_and_stockton.json,fresno_and_los angeles.json,fresno_and_san bernardino.json,huntington beach_and_sacramento.json,huntington beach_and_sausalito.json,irvine_and_sacramento.json,irvine_and_sausalito.json,long beach_and_stockton.json,los angeles_and_sausalito.json,los angeles_and_stockton.json,malibu_and_sausalito.json,mammoth lakes_and_riverside.json,monterey_and_san bernardino.json,oakland_and_santa clarita.json,pasadena_and_sausalito.json,riverside_and_sacramento.json,riverside_and_san francisco.json,riverside_and_sausalito.json,riverside_and_stockton.json,sacramento_and_santa clarita.json,san bernardino_and_san jose.json,san bernardino_and_santa clarita.json,san bernardino_and_sausalito.json,san diego_and_santa clarita.json,san francisco_and_santa clarita.json,san francisco_and_temecula.json,sacramento_and_san bernardino.json,newport beach_and_sausalito.json,san bernardino_and_stockton.json,santa clarita_and_sausalito.json,san luis obispo_and_santa clarita.json,san luis obispo_and_sausalito.json,santa monica_and_sausalito.json,stockton_and_temecula.json\"\n",
    "    no_of_blog_files = len(blogFileString.split(','))\n",
    "    print(no_of_blog_files)\n",
    "    return no_of_blog_files"
   ]
  },
  {
   "cell_type": "code",
   "execution_count": 8,
   "metadata": {
    "collapsed": false
   },
   "outputs": [
    {
     "name": "stdout",
     "output_type": "stream",
     "text": [
      "1\n"
     ]
    },
    {
     "data": {
      "text/plain": [
       "1"
      ]
     },
     "execution_count": 8,
     "metadata": {},
     "output_type": "execute_result"
    }
   ],
   "source": [
    "getNoOfBlogFiles(\"s\")"
   ]
  }
 ],
 "metadata": {
  "anaconda-cloud": {},
  "kernelspec": {
   "display_name": "Python [default]",
   "language": "python",
   "name": "python3"
  },
  "language_info": {
   "codemirror_mode": {
    "name": "ipython",
    "version": 3
   },
   "file_extension": ".py",
   "mimetype": "text/x-python",
   "name": "python",
   "nbconvert_exporter": "python",
   "pygments_lexer": "ipython3",
   "version": "3.5.2"
  }
 },
 "nbformat": 4,
 "nbformat_minor": 1
}
