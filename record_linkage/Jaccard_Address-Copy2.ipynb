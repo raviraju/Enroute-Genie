{
 "cells": [
  {
   "cell_type": "code",
   "execution_count": 11,
   "metadata": {
    "collapsed": false
   },
   "outputs": [],
   "source": [
    "# Import libraries\n",
    "import py_stringsimjoin as ssj\n",
    "import py_stringmatching as sm\n",
    "import pandas as pd\n",
    "import os, sys"
   ]
  },
  {
   "cell_type": "code",
   "execution_count": 12,
   "metadata": {
    "collapsed": false
   },
   "outputs": [
    {
     "name": "stdout",
     "output_type": "stream",
     "text": [
      "Number of records in blogTable: 7395\n",
      "Number of records in tripAdvisorTable: 5445\n"
     ]
    }
   ],
   "source": [
    "recordLinkagePath = '/media/ravirajukrishna/Windows/Users/Ravi/Desktop/USC/Courses_Sem3/Info_Integrate_Web/Project/Enroute-Genie/data_record_linkage_csv/california/'\n",
    "blogTablePath = recordLinkagePath + 'allBlogLocation_nonCity_Mentions.csv'\n",
    "tripAdvisorTablePath = recordLinkagePath + 'tripAdvisor_attractions.csv'\n",
    "# Load csv files as dataframes.\n",
    "blogTable = pd.read_csv(blogTablePath)\n",
    "tripAdvisorTable = pd.read_csv(tripAdvisorTablePath)\n",
    "print('Number of records in blogTable: ' + str(len(blogTable)))\n",
    "print('Number of records in tripAdvisorTable: ' + str(len(tripAdvisorTable)))"
   ]
  },
  {
   "cell_type": "code",
   "execution_count": 13,
   "metadata": {
    "collapsed": false
   },
   "outputs": [
    {
     "data": {
      "text/html": [
       "<div>\n",
       "<table border=\"1\" class=\"dataframe\">\n",
       "  <thead>\n",
       "    <tr style=\"text-align: right;\">\n",
       "      <th></th>\n",
       "      <th>Unique values</th>\n",
       "      <th>Missing values</th>\n",
       "      <th>Comments</th>\n",
       "    </tr>\n",
       "    <tr>\n",
       "      <th>Attribute</th>\n",
       "      <th></th>\n",
       "      <th></th>\n",
       "      <th></th>\n",
       "    </tr>\n",
       "  </thead>\n",
       "  <tbody>\n",
       "    <tr>\n",
       "      <th>mention_name</th>\n",
       "      <td>7395 (100.0%)</td>\n",
       "      <td>0 (0.0%)</td>\n",
       "      <td>This attribute can be used as a key attribute.</td>\n",
       "    </tr>\n",
       "    <tr>\n",
       "      <th>mention_type</th>\n",
       "      <td>263 (3.56%)</td>\n",
       "      <td>0 (0.0%)</td>\n",
       "      <td></td>\n",
       "    </tr>\n",
       "    <tr>\n",
       "      <th>mention_popularity</th>\n",
       "      <td>97 (1.31%)</td>\n",
       "      <td>0 (0.0%)</td>\n",
       "      <td></td>\n",
       "    </tr>\n",
       "    <tr>\n",
       "      <th>mention_address</th>\n",
       "      <td>6341 (85.75%)</td>\n",
       "      <td>0 (0.0%)</td>\n",
       "      <td></td>\n",
       "    </tr>\n",
       "    <tr>\n",
       "      <th>no_of_blogFiles</th>\n",
       "      <td>181 (2.45%)</td>\n",
       "      <td>0 (0.0%)</td>\n",
       "      <td></td>\n",
       "    </tr>\n",
       "    <tr>\n",
       "      <th>mention_found_in_blogFiles</th>\n",
       "      <td>3503 (47.37%)</td>\n",
       "      <td>0 (0.0%)</td>\n",
       "      <td></td>\n",
       "    </tr>\n",
       "  </tbody>\n",
       "</table>\n",
       "</div>"
      ],
      "text/plain": [
       "                            Unique values Missing values  \\\n",
       "Attribute                                                  \n",
       "mention_name                7395 (100.0%)       0 (0.0%)   \n",
       "mention_type                  263 (3.56%)       0 (0.0%)   \n",
       "mention_popularity             97 (1.31%)       0 (0.0%)   \n",
       "mention_address             6341 (85.75%)       0 (0.0%)   \n",
       "no_of_blogFiles               181 (2.45%)       0 (0.0%)   \n",
       "mention_found_in_blogFiles  3503 (47.37%)       0 (0.0%)   \n",
       "\n",
       "                                                                  Comments  \n",
       "Attribute                                                                   \n",
       "mention_name                This attribute can be used as a key attribute.  \n",
       "mention_type                                                                \n",
       "mention_popularity                                                          \n",
       "mention_address                                                             \n",
       "no_of_blogFiles                                                             \n",
       "mention_found_in_blogFiles                                                  "
      ]
     },
     "execution_count": 13,
     "metadata": {},
     "output_type": "execute_result"
    }
   ],
   "source": [
    "# profile attributes in table blogTable\n",
    "ssj.profile_table_for_join(blogTable)"
   ]
  },
  {
   "cell_type": "code",
   "execution_count": 14,
   "metadata": {
    "collapsed": false
   },
   "outputs": [
    {
     "data": {
      "text/html": [
       "<div>\n",
       "<table border=\"1\" class=\"dataframe\">\n",
       "  <thead>\n",
       "    <tr style=\"text-align: right;\">\n",
       "      <th></th>\n",
       "      <th>Unique values</th>\n",
       "      <th>Missing values</th>\n",
       "      <th>Comments</th>\n",
       "    </tr>\n",
       "    <tr>\n",
       "      <th>Attribute</th>\n",
       "      <th></th>\n",
       "      <th></th>\n",
       "      <th></th>\n",
       "    </tr>\n",
       "  </thead>\n",
       "  <tbody>\n",
       "    <tr>\n",
       "      <th>attraction_name</th>\n",
       "      <td>5388 (98.95%)</td>\n",
       "      <td>0 (0.0%)</td>\n",
       "      <td></td>\n",
       "    </tr>\n",
       "    <tr>\n",
       "      <th>attraction_knownFor</th>\n",
       "      <td>751 (13.79%)</td>\n",
       "      <td>3856 (70.82%)</td>\n",
       "      <td>Joining on this attribute will ignore 3856 (70.82%) rows.</td>\n",
       "    </tr>\n",
       "    <tr>\n",
       "      <th>attraction_reviewComment</th>\n",
       "      <td>5045 (92.65%)</td>\n",
       "      <td>374 (6.87%)</td>\n",
       "      <td>Joining on this attribute will ignore 374 (6.87%) rows.</td>\n",
       "    </tr>\n",
       "    <tr>\n",
       "      <th>attraction_ranking</th>\n",
       "      <td>361 (6.63%)</td>\n",
       "      <td>0 (0.0%)</td>\n",
       "      <td></td>\n",
       "    </tr>\n",
       "    <tr>\n",
       "      <th>attraction_no_of_reviews</th>\n",
       "      <td>579 (10.63%)</td>\n",
       "      <td>306 (5.62%)</td>\n",
       "      <td>Joining on this attribute will ignore 306 (5.62%) rows.</td>\n",
       "    </tr>\n",
       "    <tr>\n",
       "      <th>attraction_contact</th>\n",
       "      <td>3973 (72.97%)</td>\n",
       "      <td>1354 (24.87%)</td>\n",
       "      <td>Joining on this attribute will ignore 1354 (24.87%) rows.</td>\n",
       "    </tr>\n",
       "    <tr>\n",
       "      <th>attraction_in</th>\n",
       "      <td>682 (12.53%)</td>\n",
       "      <td>0 (0.0%)</td>\n",
       "      <td></td>\n",
       "    </tr>\n",
       "    <tr>\n",
       "      <th>attraction_address</th>\n",
       "      <td>4859 (89.24%)</td>\n",
       "      <td>329 (6.04%)</td>\n",
       "      <td>Joining on this attribute will ignore 329 (6.04%) rows.</td>\n",
       "    </tr>\n",
       "    <tr>\n",
       "      <th>attraction_url</th>\n",
       "      <td>5445 (100.0%)</td>\n",
       "      <td>0 (0.0%)</td>\n",
       "      <td>This attribute can be used as a key attribute.</td>\n",
       "    </tr>\n",
       "    <tr>\n",
       "      <th>attraction_in_file</th>\n",
       "      <td>682 (12.53%)</td>\n",
       "      <td>0 (0.0%)</td>\n",
       "      <td></td>\n",
       "    </tr>\n",
       "  </tbody>\n",
       "</table>\n",
       "</div>"
      ],
      "text/plain": [
       "                          Unique values Missing values  \\\n",
       "Attribute                                                \n",
       "attraction_name           5388 (98.95%)       0 (0.0%)   \n",
       "attraction_knownFor        751 (13.79%)  3856 (70.82%)   \n",
       "attraction_reviewComment  5045 (92.65%)    374 (6.87%)   \n",
       "attraction_ranking          361 (6.63%)       0 (0.0%)   \n",
       "attraction_no_of_reviews   579 (10.63%)    306 (5.62%)   \n",
       "attraction_contact        3973 (72.97%)  1354 (24.87%)   \n",
       "attraction_in              682 (12.53%)       0 (0.0%)   \n",
       "attraction_address        4859 (89.24%)    329 (6.04%)   \n",
       "attraction_url            5445 (100.0%)       0 (0.0%)   \n",
       "attraction_in_file         682 (12.53%)       0 (0.0%)   \n",
       "\n",
       "                                                                           Comments  \n",
       "Attribute                                                                            \n",
       "attraction_name                                                                      \n",
       "attraction_knownFor       Joining on this attribute will ignore 3856 (70.82%) rows.  \n",
       "attraction_reviewComment    Joining on this attribute will ignore 374 (6.87%) rows.  \n",
       "attraction_ranking                                                                   \n",
       "attraction_no_of_reviews    Joining on this attribute will ignore 306 (5.62%) rows.  \n",
       "attraction_contact        Joining on this attribute will ignore 1354 (24.87%) rows.  \n",
       "attraction_in                                                                        \n",
       "attraction_address          Joining on this attribute will ignore 329 (6.04%) rows.  \n",
       "attraction_url                       This attribute can be used as a key attribute.  \n",
       "attraction_in_file                                                                   "
      ]
     },
     "execution_count": 14,
     "metadata": {},
     "output_type": "execute_result"
    }
   ],
   "source": [
    "# profile attributes in table tripAdvisorTable\n",
    "ssj.profile_table_for_join(tripAdvisorTable)"
   ]
  },
  {
   "cell_type": "code",
   "execution_count": 15,
   "metadata": {
    "collapsed": false
   },
   "outputs": [],
   "source": [
    "# create whitespace tokenizer for tokenizing 'address' attribute. The return_set flag should be set to True since\n",
    "# Jaccard is a set based measure.\n",
    "ws = sm.WhitespaceTokenizer(return_set=True)\n",
    "\n",
    "# a whitespace tokenizer will tokenize the input string using whitespace\n",
    "#ws.tokenize('Lake Ilsanjo, Lake Trail, Sonoma County, California, 95409, United States of America')"
   ]
  },
  {
   "cell_type": "code",
   "execution_count": 21,
   "metadata": {
    "collapsed": false,
    "scrolled": true
   },
   "outputs": [
    {
     "name": "stderr",
     "output_type": "stream",
     "text": [
      "0%                          100%\n",
      "[##############################] | ETA: 00:00:00\n",
      "Total time elapsed: 00:00:00\n"
     ]
    },
    {
     "name": "stdout",
     "output_type": "stream",
     "text": [
      "4\n"
     ]
    },
    {
     "data": {
      "text/html": [
       "<div>\n",
       "<table border=\"1\" class=\"dataframe\">\n",
       "  <thead>\n",
       "    <tr style=\"text-align: right;\">\n",
       "      <th></th>\n",
       "      <th>_id</th>\n",
       "      <th>l_mention_name</th>\n",
       "      <th>r_attraction_url</th>\n",
       "      <th>l_mention_type</th>\n",
       "      <th>l_mention_popularity</th>\n",
       "      <th>r_attraction_name</th>\n",
       "      <th>r_attraction_knownFor</th>\n",
       "      <th>r_attraction_reviewComment</th>\n",
       "      <th>_sim_score</th>\n",
       "    </tr>\n",
       "  </thead>\n",
       "  <tbody>\n",
       "    <tr>\n",
       "      <th>0</th>\n",
       "      <td>0</td>\n",
       "      <td>beach</td>\n",
       "      <td>https://www.tripadvisor.com/Attraction_Review-g152515-d10723455-Reviews-Divorce_beach-Cabo_San_L...</td>\n",
       "      <td>service</td>\n",
       "      <td>4.0</td>\n",
       "      <td>Divorce beach</td>\n",
       "      <td>“ Goes hand in hand with Lovers beach ” Reviewed September 17, 2016 via mobile If you've been to...</td>\n",
       "      <td>NaN</td>\n",
       "      <td>0.5</td>\n",
       "    </tr>\n",
       "    <tr>\n",
       "      <th>1</th>\n",
       "      <td>1</td>\n",
       "      <td>downtown historic district</td>\n",
       "      <td>https://www.tripadvisor.com/Attraction_Review-g32595-d4090017-Reviews-Historic_downtown_Lake_Els...</td>\n",
       "      <td>proposed</td>\n",
       "      <td>1.0</td>\n",
       "      <td>historic downtown Lake Elsinore</td>\n",
       "      <td>NaN</td>\n",
       "      <td>LOVED THE ENTIRETY OF THE WHOLE CITY! Wonderful place! will go again soon hopefully! many differ...</td>\n",
       "      <td>0.4</td>\n",
       "    </tr>\n",
       "    <tr>\n",
       "      <th>0</th>\n",
       "      <td>2</td>\n",
       "      <td>davis</td>\n",
       "      <td>https://www.tripadvisor.com/Attraction_Review-g33096-d6847417-Reviews-Davis_ranch-Sloughhouse_Ca...</td>\n",
       "      <td>administrative</td>\n",
       "      <td>4.0</td>\n",
       "      <td>davis ranch</td>\n",
       "      <td>NaN</td>\n",
       "      <td>Davis Ranch has t he best white sweet corn there is anywhere, period ! I wish they would stay op...</td>\n",
       "      <td>0.5</td>\n",
       "    </tr>\n",
       "    <tr>\n",
       "      <th>1</th>\n",
       "      <td>3</td>\n",
       "      <td>lake</td>\n",
       "      <td>https://www.tripadvisor.com/Attraction_Review-g32689-d9581575-Reviews-Ellis_lake-Marysville_Cali...</td>\n",
       "      <td>administrative</td>\n",
       "      <td>11.0</td>\n",
       "      <td>Ellis lake</td>\n",
       "      <td>NaN</td>\n",
       "      <td>As a teenager during the summers my grandfather lived in the area and we would visit the lake an...</td>\n",
       "      <td>0.5</td>\n",
       "    </tr>\n",
       "  </tbody>\n",
       "</table>\n",
       "</div>"
      ],
      "text/plain": [
       "   _id              l_mention_name  \\\n",
       "0    0                       beach   \n",
       "1    1  downtown historic district   \n",
       "0    2                       davis   \n",
       "1    3                        lake   \n",
       "\n",
       "                                                                                      r_attraction_url  \\\n",
       "0  https://www.tripadvisor.com/Attraction_Review-g152515-d10723455-Reviews-Divorce_beach-Cabo_San_L...   \n",
       "1  https://www.tripadvisor.com/Attraction_Review-g32595-d4090017-Reviews-Historic_downtown_Lake_Els...   \n",
       "0  https://www.tripadvisor.com/Attraction_Review-g33096-d6847417-Reviews-Davis_ranch-Sloughhouse_Ca...   \n",
       "1  https://www.tripadvisor.com/Attraction_Review-g32689-d9581575-Reviews-Ellis_lake-Marysville_Cali...   \n",
       "\n",
       "   l_mention_type  l_mention_popularity                r_attraction_name  \\\n",
       "0         service                   4.0                    Divorce beach   \n",
       "1        proposed                   1.0  historic downtown Lake Elsinore   \n",
       "0  administrative                   4.0                      davis ranch   \n",
       "1  administrative                  11.0                       Ellis lake   \n",
       "\n",
       "                                                                                 r_attraction_knownFor  \\\n",
       "0  “ Goes hand in hand with Lovers beach ” Reviewed September 17, 2016 via mobile If you've been to...   \n",
       "1                                                                                                  NaN   \n",
       "0                                                                                                  NaN   \n",
       "1                                                                                                  NaN   \n",
       "\n",
       "                                                                            r_attraction_reviewComment  \\\n",
       "0                                                                                                  NaN   \n",
       "1  LOVED THE ENTIRETY OF THE WHOLE CITY! Wonderful place! will go again soon hopefully! many differ...   \n",
       "0  Davis Ranch has t he best white sweet corn there is anywhere, period ! I wish they would stay op...   \n",
       "1  As a teenager during the summers my grandfather lived in the area and we would visit the lake an...   \n",
       "\n",
       "   _sim_score  \n",
       "0         0.5  \n",
       "1         0.4  \n",
       "0         0.5  \n",
       "1         0.5  "
      ]
     },
     "execution_count": 21,
     "metadata": {},
     "output_type": "execute_result"
    }
   ],
   "source": [
    "# find all pairs from blogTable and tripAdvisorTable such that the Jaccard score\n",
    "# on 'name' is at least 0.5.\n",
    "# l_out_attrs and r_out_attrs denote the attributes from the \n",
    "# left table (A) and right table (B) that need to be included in the output.\n",
    "\n",
    "output_pairs = ssj.jaccard_join(blogTable, tripAdvisorTable, \n",
    "                                'mention_name', 'attraction_url', \n",
    "                                'mention_name', 'attraction_name', \n",
    "                                ws, 0.38, \n",
    "                                l_out_attrs=['mention_name','mention_type','mention_popularity'], \n",
    "                                r_out_attrs=['attraction_name','attraction_knownFor','attraction_reviewComment'],\n",
    "                                n_jobs=-1)\n",
    "print(len(output_pairs))\n",
    "# examine the output pairs\n",
    "(output_pairs)"
   ]
  }
 ],
 "metadata": {
  "anaconda-cloud": {},
  "kernelspec": {
   "display_name": "Python [conda root]",
   "language": "python",
   "name": "conda-root-py"
  },
  "language_info": {
   "codemirror_mode": {
    "name": "ipython",
    "version": 3
   },
   "file_extension": ".py",
   "mimetype": "text/x-python",
   "name": "python",
   "nbconvert_exporter": "python",
   "pygments_lexer": "ipython3",
   "version": "3.5.2"
  }
 },
 "nbformat": 4,
 "nbformat_minor": 1
}
