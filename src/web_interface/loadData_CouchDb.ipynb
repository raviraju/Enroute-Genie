{
 "cells": [
  {
   "cell_type": "code",
   "execution_count": 4,
   "metadata": {
    "collapsed": true
   },
   "outputs": [],
   "source": [
    "import argparse, os, json, csv\n",
    "from pprint import pprint\n",
    "\n",
    "def rscandir(path):\n",
    "\tfor root, dirs, files in os.walk(path):\n",
    "\t\tfor file in files:\n",
    "\t\t\tif file.endswith('.json'):\n",
    "\t\t\t\tyield (root, file)"
   ]
  },
  {
   "cell_type": "code",
   "execution_count": 5,
   "metadata": {
    "collapsed": true
   },
   "outputs": [],
   "source": [
    "def loadData(dataDir):\n",
    "    count = 0\n",
    "    for path,fileName in rscandir(dataDir):\n",
    "        filePath = os.path.join(path, fileName)\n",
    "        count+=1\n",
    "        print(\"Reading data from {} : {}\".format(count, fileName))\n",
    "\n",
    "        with open(filePath) as data_file:\n",
    "            data = json.load(data_file)\n",
    "            pprint(data)"
   ]
  },
  {
   "cell_type": "code",
   "execution_count": 6,
   "metadata": {
    "collapsed": false
   },
   "outputs": [
    {
     "name": "stderr",
     "output_type": "stream",
     "text": [
      "usage: __main__.py [-h] dataDir\n",
      "__main__.py: error: unrecognized arguments: -f\n"
     ]
    },
    {
     "ename": "SystemExit",
     "evalue": "2",
     "output_type": "error",
     "traceback": [
      "An exception has occurred, use %tb to see the full traceback.\n",
      "\u001b[0;31mSystemExit\u001b[0m\u001b[0;31m:\u001b[0m 2\n"
     ]
    },
    {
     "name": "stderr",
     "output_type": "stream",
     "text": [
      "/home/ravirajukrishna/anaconda3/lib/python3.5/site-packages/IPython/core/interactiveshell.py:2889: UserWarning: To exit: use 'exit', 'quit', or Ctrl-D.\n",
      "  warn(\"To exit: use 'exit', 'quit', or Ctrl-D.\", stacklevel=1)\n"
     ]
    }
   ],
   "source": [
    "def main():\n",
    "\tparser = argparse.ArgumentParser(description=\"load data into couchDB\")\n",
    "\tparser.add_argument(\"dataDir\", help=\"path to directory of json files to be loaded into couchDB\")\n",
    "\targs = parser.parse_args()\n",
    "\tdataDir = args.dataDir\n",
    "\n",
    "\tloadData(dataDir)\n",
    "\n",
    "if __name__ == \"__main__\" : main()"
   ]
  }
 ],
 "metadata": {
  "anaconda-cloud": {},
  "kernelspec": {
   "display_name": "Python [default]",
   "language": "python",
   "name": "python3"
  },
  "language_info": {
   "codemirror_mode": {
    "name": "ipython",
    "version": 3
   },
   "file_extension": ".py",
   "mimetype": "text/x-python",
   "name": "python",
   "nbconvert_exporter": "python",
   "pygments_lexer": "ipython3",
   "version": "3.5.2"
  }
 },
 "nbformat": 4,
 "nbformat_minor": 1
}
